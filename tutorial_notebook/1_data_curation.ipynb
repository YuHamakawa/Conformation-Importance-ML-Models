{
 "cells": [
  {
   "cell_type": "markdown",
   "metadata": {},
   "source": [
    "Author: Yu Hamakawa\n",
    "\n",
    "Created: September 9, 2024"
   ]
  },
  {
   "cell_type": "markdown",
   "metadata": {},
   "source": [
    "# Data Curation\n",
    "In this tutorial, you can follow the curation process of the data used in the analysis. Two types of datasets are utilized: the PQC dataset and the APTCs dataset. The PQC dataset is carefully created by me.\n",
    "\n",
    "---\n"
   ]
  },
  {
   "cell_type": "markdown",
   "metadata": {},
   "source": [
    "# Data Curation Flow"
   ]
  },
  {
   "cell_type": "markdown",
   "metadata": {},
   "source": [
    "\n",
    "## Data Curation Flow for PQC dataset\n"
   ]
  },
  {
   "cell_type": "markdown",
   "metadata": {},
   "source": [
    "#### Make SDF files consists of compounds with diverse conformational changes.\n",
    "  - Step 1. Randomly download the json files from PubchemQC PM6 dataset [here](https://chibakoudai.sharepoint.com/sites/stair01/Shared%20Documents/Forms/AllItems.aspx?ga=1&id=%2Fsites%2Fstair01%2FShared%20Documents%2Fdata%2FPubChemQC%2FPM6%2Fpm6opt%5Fver2%2E0%2E0%2Fjson%2FCHON500noSalt&viewid=2a7fb7f8%2Df3f8%2D4ad2%2D931e%2Dfc786e938ea8) (509,453M compounds are downloaded). CHON500noSalt sub-dataset is used.\n",
    "  - Step 2. Convert json format to csv format.\n",
    "  - Step 3. Calculate rotatable number of bonds use RDKit and extract top 100,000 compunds to ensure a variety of conformatins for each compounds.\n",
    "  - Step 4. Convert csv format to SDF format use RDKit. The coordinates of all hydrogens, including deuterium, are deleted and the coordinates of the heavy atoms are recorded in the SDF (this SDF will be referred to as \"Ground-truth conformation SDF\").\n",
    "\n",
    "From here, curation flow branch into 3 parts (2D descriptors, 3D descriptors, and Uni-Mol input) to create different data. Note: At this stage, 100,000 compounds are included in the SDF, but conformers were successfully generated for only 97,696 compounds. To perform a valid validation, all compounds used in the dataset below are the same 97,696 compounds.\n",
    "\n",
    "#### 1. 2D descriptors\n",
    "  - Step 1. Get canonical SMILES from Ground-truth conformation SDF files.\n",
    "  - Step 2. Calculate ECFP4 using OpenEye toolkit.\n",
    "#### 2. 3D descriptors\n",
    "   - Step 1. Generate conformers from Ground-truth conformation SDF files for calculation using OMEGA from OpenEye (set RMSD thresholding = 2Å, and maximum number of generated conformers = 40). 644,648 conformers are generated.\n",
    "   - Step 2. Run structual optimization of generated conformers using PM6 Hamiltonian in MOPAC.\n",
    "   - Step 3. Convert MOPAC output file to SDF (this SDF will be referred to as \"Generated conformers SDF\").\n",
    "   - Step 4. Calculate 2 different 3d descriptors (MOE & Pmapper) from Generated conformers SDF and Ground-truth conformation SDF: MOE descriptors using MOE software or Pmapper descriptors using [the code](https://github.com/Laboratoire-de-Chemoinformatique/3D-MIL-QSSR/blob/main/miqssr/descriptor_calculation/pmapper_3d.py).\n",
    "   - Step 5. Aggregate MOE descriptors for descriptors calculated from Generated conformers SDF using 6 different aggregation methods: Boltzmann Weight, Mean, Global Minimum, Random, RMSD Max, and RMSD Min.\n",
    "#### 3. Uni-Mol input\n",
    "- Step 1. Extract atom elements and coordinates from Ground-truth conformation SDF\n",
    "- Step 2. Extract atom elements and coordinates from Generated conformers SDF. Global Minimum and RMSD Max conformation is selected.\n",
    "\n",
    "2D descriptors and 3D descriptors are used to the random forest model and multi-instance leraning model.\n",
    "Uni-Mol input is used to the Uni-Mol model.\n",
    "\n",
    "---\n",
    "\n",
    "The final list of datasets created is as follows:\n",
    "- ECFP4 count\n",
    "- Aggregated MOE/Pmapper decsriptors using 6 diffetent aggregation methods\n",
    "- Non-aggregated MOE/Pmapper descriptors\n",
    "- Ground-truth MOE/Pmapper descriptors\n",
    "- Uni-Mol input (Ground-truth, Global minimum, RMSD Max)\n",
    "\n",
    "As mentioned above, all datasets consist of the same 97,696 compounds. In the non-aggregated dataset, the number of conformers is 644,648."
   ]
  },
  {
   "cell_type": "markdown",
   "metadata": {},
   "source": [
    "## Data Curation Flow for APTCs dataset (APTC-1 and APTC-2 dataset)\n"
   ]
  },
  {
   "cell_type": "markdown",
   "metadata": {},
   "source": [
    "\n",
    "- Get dataset from [here](https://github.com/Laboratoire-de-Chemoinformatique/3D-MIL-QSSR/tree/main/datasets). APTC-1 have 88 catalysts, and APTC-2 have 40 catalysts experimental data.\n",
    "- Generate conformers using RDKit and save as pkl format (use [the code of previous research](https://github.com/Laboratoire-de-Chemoinformatique/3D-MIL-QSSR/blob/main/miqssr/conformer_generation/gen_conformers.py)). 4371 conformers for APTC-1, and 1864 conformers for APTC-2 are generated.\n",
    "\n",
    "- Calculate 2d descriptors (ECFP bit/count, 2D pharmacophore fingerprint (2D PFP) ) using RDKit.\n",
    "- Calculate 3d descriptors (MOE using MOE software, Pmapper) from generated conformers/\n",
    "- Aggregate 3d descriptors using 4 aggregation methods: Boltzmann weight, Mean, Global Minimum, Random.\n",
    "\n",
    "---\n",
    "\n",
    "The final list of datasets created is as follows:\n",
    "- ECFP4 bit/count\n",
    "- 2D PFP\n",
    "- Aggregated MOE/Pmapper decsriptors using 4 diffetent aggregation methods\n",
    "- Non-aggregated MOE/Pmapper descriptors\n",
    "\n"
   ]
  },
  {
   "cell_type": "markdown",
   "metadata": {},
   "source": [
    "# Run Data Curation Code\n",
    "\n",
    "Because OpenEye and MOE are trademarked software, licensing issues prohibit us from releasing the code. Therefore, please note that running the code below will not automatically create data."
   ]
  },
  {
   "cell_type": "markdown",
   "metadata": {},
   "source": [
    "## Data Curation Code for PQC dataset"
   ]
  },
  {
   "cell_type": "code",
   "execution_count": 1,
   "metadata": {},
   "outputs": [],
   "source": [
    "from pathlib import Path\n",
    "\n",
    "BASE_DIR = Path.cwd().parent\n",
    "DATA_DIR = BASE_DIR / 'data' / 'PQC_dataset'\n",
    "CURATION_DIR = BASE_DIR / 'src' / 'data_curation' / 'PQC_dataset'"
   ]
  },
  {
   "cell_type": "markdown",
   "metadata": {},
   "source": [
    "Convert downloaded json files to csv format."
   ]
  },
  {
   "cell_type": "code",
   "execution_count": 2,
   "metadata": {},
   "outputs": [],
   "source": [
    "FILE_PATH = CURATION_DIR / 'sampling' / 'json2csv.py'\n",
    "# %run $FILE_PATH"
   ]
  },
  {
   "cell_type": "markdown",
   "metadata": {},
   "source": [
    "Calculate rotatable number of bonds use RDKit and extract top 100,000 compunds to ensure a variety of conformatins for each compounds."
   ]
  },
  {
   "cell_type": "code",
   "execution_count": 3,
   "metadata": {},
   "outputs": [],
   "source": [
    "FILE_PATH = CURATION_DIR / 'sampling' / 'rdkit_rotatableBond.py'\n",
    "# %run $FILE_PATH"
   ]
  },
  {
   "cell_type": "markdown",
   "metadata": {},
   "source": [
    "Convert csv format to SDF format use RDKit."
   ]
  },
  {
   "cell_type": "code",
   "execution_count": 4,
   "metadata": {},
   "outputs": [],
   "source": [
    "FILE_PATH = CURATION_DIR / 'sampling' / 'rdkit_csv2sdf.py'\n",
    "# %run $FILE_PATH"
   ]
  },
  {
   "cell_type": "markdown",
   "metadata": {},
   "source": [
    "**The code of ECFP calculation, conformers generation, MOPAC result perser and MOE descriptors generation could not be released.**\n",
    "\n",
    "Pmapper descriptors are calculated by [the code](https://github.com/Laboratoire-de-Chemoinformatique/3D-MIL-QSSR/blob/main/miqssr/descriptor_calculation/pmapper_3d.py)\n"
   ]
  },
  {
   "cell_type": "markdown",
   "metadata": {},
   "source": [
    "Aggregate MOE descriptors"
   ]
  },
  {
   "cell_type": "code",
   "execution_count": 5,
   "metadata": {},
   "outputs": [],
   "source": [
    "FILE_PATH = CURATION_DIR / '3d_descriptor' / 'calc_aggregation.py'\n",
    "# %run $FILE_PATH"
   ]
  },
  {
   "cell_type": "markdown",
   "metadata": {},
   "source": [
    "Make unimol input data"
   ]
  },
  {
   "cell_type": "code",
   "execution_count": 6,
   "metadata": {},
   "outputs": [],
   "source": [
    "FILE_PATH = CURATION_DIR / 'unimol_input' / 'extract_coords.py'\n",
    "# %run $FILE_PATH"
   ]
  },
  {
   "cell_type": "markdown",
   "metadata": {},
   "source": [
    "## Data Curation Code for APTCs dataset"
   ]
  },
  {
   "cell_type": "code",
   "execution_count": 7,
   "metadata": {},
   "outputs": [],
   "source": [
    "from pathlib import Path\n",
    "\n",
    "BASE_DIR = Path.cwd().parent\n",
    "DATA_DIR = BASE_DIR / 'data' / 'APTCs_dataset'\n",
    "CURATION_DIR = BASE_DIR / 'src' / 'data_curation' / 'APTCs_dataset'"
   ]
  },
  {
   "cell_type": "markdown",
   "metadata": {},
   "source": [
    "Calculate 2d descriptors (ECFP4 bit/count, 2DPFP)"
   ]
  },
  {
   "cell_type": "code",
   "execution_count": 8,
   "metadata": {},
   "outputs": [],
   "source": [
    "FILE_PATH = CURATION_DIR / '2d_descriptor' / 'calc_2d.py'\n",
    "# %run $FILE_PATH"
   ]
  },
  {
   "cell_type": "markdown",
   "metadata": {},
   "source": [
    "**The code of MOE descriptors generation could not be released.**\n",
    "\n",
    "Pmapper descriptors are calculated by [the code](https://github.com/Laboratoire-de-Chemoinformatique/3D-MIL-QSSR/blob/main/miqssr/descriptor_calculation/pmapper_3d.py)\n"
   ]
  },
  {
   "cell_type": "markdown",
   "metadata": {},
   "source": [
    "Aggregate MOE descriptors"
   ]
  },
  {
   "cell_type": "code",
   "execution_count": 9,
   "metadata": {},
   "outputs": [],
   "source": [
    "FILE_PATH = CURATION_DIR / '3d_descriptor' / 'calc_agg_MOE.py'\n",
    "# %run $FILE_PATH"
   ]
  },
  {
   "cell_type": "markdown",
   "metadata": {},
   "source": [
    "Preprocess Pmapper descriptors"
   ]
  },
  {
   "cell_type": "code",
   "execution_count": 10,
   "metadata": {},
   "outputs": [],
   "source": [
    "FILE_PATH = CURATION_DIR / '3d_descriptor' / 'merge_pmapper.py'\n",
    "# %run $FILE_PATH"
   ]
  },
  {
   "cell_type": "markdown",
   "metadata": {},
   "source": [
    "Aggregate Pmapper descriptors"
   ]
  },
  {
   "cell_type": "code",
   "execution_count": 11,
   "metadata": {},
   "outputs": [],
   "source": [
    "FILE_PATH = CURATION_DIR / '3d_descriptor' / 'calc_agg_pmapper.py'\n",
    "# %run $FILE_PATH"
   ]
  },
  {
   "cell_type": "markdown",
   "metadata": {},
   "source": [
    "Since it was found that the accuracy of APTC data varies significantly depending on the splitting method, \n",
    "we will concatenate the data first and then split it again for training. "
   ]
  },
  {
   "cell_type": "code",
   "execution_count": 12,
   "metadata": {},
   "outputs": [],
   "source": [
    "FILE_PATH = CURATION_DIR / 'concat_split.py'\n",
    "# %run $FILE_PATH"
   ]
  }
 ],
 "metadata": {
  "kernelspec": {
   "display_name": "py311_2d3d",
   "language": "python",
   "name": "python3"
  },
  "language_info": {
   "codemirror_mode": {
    "name": "ipython",
    "version": 3
   },
   "file_extension": ".py",
   "mimetype": "text/x-python",
   "name": "python",
   "nbconvert_exporter": "python",
   "pygments_lexer": "ipython3",
   "version": "undefined.undefined.undefined"
  }
 },
 "nbformat": 4,
 "nbformat_minor": 2
}
