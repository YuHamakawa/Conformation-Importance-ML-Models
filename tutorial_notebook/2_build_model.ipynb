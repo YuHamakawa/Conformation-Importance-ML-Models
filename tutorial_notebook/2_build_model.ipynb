{
 "cells": [
  {
   "cell_type": "markdown",
   "metadata": {},
   "source": [
    "# Build Model\n",
    "In this tutorial, you can follow the model building process used in the analysis. \n",
    "In the PQC dataset, Random Forest (RF) model, Munti-Instance Learning (MIL) model, and the state-of-the-art model Uni-Mol are used.\n",
    "In the APTCs dataset, RF, MIL, Uni-Mol, partial least square regression (PLS), elastic net, support vector machine (SVM) are used.\n",
    "\n",
    "For the PQC dataset, 5-fold cross-validation (CV) was conducted for evaluation.\n",
    "For the APTC-1 dataset, five times 5-fold CV with different random seeds were conducted.\n",
    "For the APTC-2 dataset, leave-one-out cross-validation (LOOCV) was conducted.\n",
    "\n",
    "For MIL, please clone [this repo](https://github.com/Laboratoire-de-Chemoinformatique/3D-MIL-QSSR?tab=readme-ov-file) and put my code on the repo for building models for my dataset.\n",
    "\n",
    "For Uni-Mol, please clone [this repo](https://github.com/deepmodeling/Uni-Mol?tab=readme-ov-file) and put my code under the unimol_tools directory for building models for my datset. I used unimol_tools for the analysis in the paper.\n",
    "\n",
    "---"
   ]
  },
  {
   "cell_type": "markdown",
   "metadata": {},
   "source": [
    "## Build Model for PQC dataset"
   ]
  },
  {
   "cell_type": "code",
   "execution_count": 1,
   "metadata": {},
   "outputs": [],
   "source": [
    "from pathlib import Path\n",
    "\n",
    "BASE_DIR = Path.cwd().parent\n",
    "DATA_DIR = BASE_DIR / 'data' / 'PQC_dataset'\n",
    "MODEL_DIR = BASE_DIR / 'src' / 'model' / 'PQC_dataset'"
   ]
  },
  {
   "cell_type": "code",
   "execution_count": 2,
   "metadata": {},
   "outputs": [],
   "source": [
    "FILE_PATH = MODEL_DIR / 'optuna_RF_cv.py'\n",
    "# %run $FILE_PATH\n",
    "\n",
    "FILE_PATH = MODEL_DIR / 'MIL_cv.py'\n",
    "# %run $FILE_PATH\n",
    "\n",
    "FILE_PATH = MODEL_DIR / 'unimol_cv.py'\n",
    "# %run $FILE_PATH"
   ]
  },
  {
   "cell_type": "markdown",
   "metadata": {
    "vscode": {
     "languageId": "plaintext"
    }
   },
   "source": [
    "## Build Model for APTCs dataset"
   ]
  },
  {
   "cell_type": "code",
   "execution_count": 3,
   "metadata": {},
   "outputs": [],
   "source": [
    "from pathlib import Path\n",
    "\n",
    "BASE_DIR = Path.cwd().parent\n",
    "DATA_DIR = BASE_DIR / 'data' / 'PQC_dataset'\n",
    "MODEL_DIR = BASE_DIR / 'src' / 'model' / 'APTCs_dataset'"
   ]
  },
  {
   "cell_type": "code",
   "execution_count": 4,
   "metadata": {},
   "outputs": [],
   "source": [
    "FILE_PATH = MODEL_DIR / 'RF_EN_PLS_SVM_cv.py'\n",
    "# %run $FILE_PATH\n",
    "\n",
    "FILE_PATH = MODEL_DIR / 'MIL_cv.py'\n",
    "# %run $FILE_PATH\n",
    "\n",
    "FILE_PATH = MODEL_DIR / 'unimol_cv.py'\n",
    "# %run $FILE_PATH"
   ]
  }
 ],
 "metadata": {
  "kernelspec": {
   "display_name": "py311_2d3d",
   "language": "python",
   "name": "python3"
  },
  "language_info": {
   "codemirror_mode": {
    "name": "ipython",
    "version": 3
   },
   "file_extension": ".py",
   "mimetype": "text/x-python",
   "name": "python",
   "nbconvert_exporter": "python",
   "pygments_lexer": "ipython3",
   "version": "3.11.6"
  }
 },
 "nbformat": 4,
 "nbformat_minor": 2
}
